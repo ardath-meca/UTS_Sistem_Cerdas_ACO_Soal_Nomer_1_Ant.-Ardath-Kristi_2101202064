{
  "nbformat": 4,
  "nbformat_minor": 0,
  "metadata": {
    "colab": {
      "name": "Ant. Ardath Kristi_2101202064_ACO.ipynb",
      "provenance": []
    },
    "kernelspec": {
      "name": "python3",
      "display_name": "Python 3"
    },
    "language_info": {
      "name": "python"
    }
  },
  "cells": [
    {
      "cell_type": "code",
      "metadata": {
        "colab": {
          "base_uri": "https://localhost:8080/"
        },
        "id": "j6tuqQ7c2SJf",
        "outputId": "c97e6435-22a4-44c9-d28d-725510fdfa10"
      },
      "source": [
        "from google.colab import drive\n",
        "drive.mount('/content/drive')"
      ],
      "execution_count": 1,
      "outputs": [
        {
          "output_type": "stream",
          "name": "stdout",
          "text": [
            "Mounted at /content/drive\n"
          ]
        }
      ]
    },
    {
      "cell_type": "code",
      "metadata": {
        "colab": {
          "base_uri": "https://localhost:8080/"
        },
        "id": "3cDCfcZI2mnb",
        "outputId": "ce261904-5815-4a60-f0cf-50306f3e9418"
      },
      "source": [
        "cd /content/drive/MyDrive/Colab Notebooks"
      ],
      "execution_count": 2,
      "outputs": [
        {
          "output_type": "stream",
          "name": "stdout",
          "text": [
            "/content/drive/MyDrive/Colab Notebooks\n"
          ]
        }
      ]
    },
    {
      "cell_type": "code",
      "metadata": {
        "id": "nDVrPmoa2u2l"
      },
      "source": [
        "import random\n",
        "\n",
        "\n",
        "class Graph(object):\n",
        "    def __init__(self, cost_matrix: list, rank: int):\n",
        "        \"\"\"\n",
        "        :param cost_matrix:\n",
        "        :param rank: rank of the cost matrix\n",
        "        \"\"\"\n",
        "        self.matrix = cost_matrix\n",
        "        self.rank = rank\n",
        "        # noinspection PyUnusedLocal\n",
        "        self.pheromone = [[1 / (rank * rank) for j in range(rank)] for i in range(rank)]\n",
        "\n",
        "\n",
        "class ACO(object):\n",
        "    def __init__(self, ant_count: int, generations: int, alpha: float, beta: float, rho: float, q: int,\n",
        "                 strategy: int):\n",
        "        \"\"\"\n",
        "        :param ant_count:\n",
        "        :param generations:\n",
        "        :param alpha: relative importance of pheromone\n",
        "        :param beta: relative importance of heuristic information\n",
        "        :param rho: pheromone residual coefficient\n",
        "        :param q: pheromone intensity\n",
        "        :param strategy: pheromone update strategy. 0 - ant-cycle, 1 - ant-quality, 2 - ant-density\n",
        "        \"\"\"\n",
        "        self.Q = q\n",
        "        self.rho = rho\n",
        "        self.beta = beta\n",
        "        self.alpha = alpha\n",
        "        self.ant_count = ant_count\n",
        "        self.generations = generations\n",
        "        self.update_strategy = strategy\n",
        "\n",
        "    def _update_pheromone(self, graph: Graph, ants: list):\n",
        "        for i, row in enumerate(graph.pheromone):\n",
        "            for j, col in enumerate(row):\n",
        "                graph.pheromone[i][j] *= self.rho\n",
        "                for ant in ants:\n",
        "                    graph.pheromone[i][j] += ant.pheromone_delta[i][j]\n",
        "\n",
        "    # noinspection PyProtectedMember\n",
        "    def solve(self, graph: Graph):\n",
        "        \"\"\"\n",
        "        :param graph:\n",
        "        \"\"\"\n",
        "        best_cost = float('inf')\n",
        "        best_solution = []\n",
        "        for gen in range(self.generations):\n",
        "            # noinspection PyUnusedLocal\n",
        "            ants = [_Ant(self, graph) for i in range(self.ant_count)]\n",
        "            for ant in ants:\n",
        "                for i in range(graph.rank - 1):\n",
        "                    ant._select_next()\n",
        "                ant.total_cost += graph.matrix[ant.tabu[-1]][ant.tabu[0]]\n",
        "                if ant.total_cost < best_cost:\n",
        "                    best_cost = ant.total_cost\n",
        "                    best_solution = [] + ant.tabu\n",
        "                # update pheromone\n",
        "                ant._update_pheromone_delta()\n",
        "            self._update_pheromone(graph, ants)\n",
        "            # print('generation #{}, best cost: {}, path: {}'.format(gen, best_cost, best_solution))\n",
        "        return best_solution, best_cost\n",
        "\n",
        "\n",
        "class _Ant(object):\n",
        "    def __init__(self, aco: ACO, graph: Graph):\n",
        "        self.colony = aco\n",
        "        self.graph = graph\n",
        "        self.total_cost = 0.0\n",
        "        self.tabu = []  # tabu list\n",
        "        self.pheromone_delta = []  # the local increase of pheromone\n",
        "        self.allowed = [i for i in range(graph.rank)]  # nodes which are allowed for the next selection\n",
        "        self.eta = [[0 if i == j else 1 / graph.matrix[i][j] for j in range(graph.rank)] for i in\n",
        "                    range(graph.rank)]  # heuristic information\n",
        "        start = 4  # Rubah disini titik awalnya\n",
        "        self.tabu.append(start)\n",
        "        self.current = start\n",
        "        self.allowed.remove(start)\n",
        "\n",
        "    def _select_next(self):\n",
        "        denominator = 0\n",
        "        for i in self.allowed:\n",
        "            denominator += self.graph.pheromone[self.current][i] ** self.colony.alpha * self.eta[self.current][\n",
        "                                                                                            i] ** self.colony.beta\n",
        "        # noinspection PyUnusedLocal\n",
        "        probabilities = [0 for i in range(self.graph.rank)]  # probabilities for moving to a node in the next step\n",
        "        for i in range(self.graph.rank):\n",
        "            try:\n",
        "                self.allowed.index(i)  # test if allowed list contains i\n",
        "                probabilities[i] = self.graph.pheromone[self.current][i] ** self.colony.alpha * \\\n",
        "                    self.eta[self.current][i] ** self.colony.beta / denominator\n",
        "            except ValueError:\n",
        "                pass  # do nothing\n",
        "        # select next node by probability roulette\n",
        "        selected = 0\n",
        "        rand = random.random()\n",
        "        for i, probability in enumerate(probabilities):\n",
        "            rand -= probability\n",
        "            if rand <= 0:\n",
        "                selected = i\n",
        "                break\n",
        "        self.allowed.remove(selected)\n",
        "        self.tabu.append(selected)\n",
        "        self.total_cost += self.graph.matrix[self.current][selected]\n",
        "        self.current = selected\n",
        "\n",
        "    # noinspection PyUnusedLocal\n",
        "    def _update_pheromone_delta(self):\n",
        "        self.pheromone_delta = [[0 for j in range(self.graph.rank)] for i in range(self.graph.rank)]\n",
        "        for _ in range(1, len(self.tabu)):\n",
        "            i = self.tabu[_ - 1]\n",
        "            j = self.tabu[_]\n",
        "            if self.colony.update_strategy == 1:  # ant-quality system\n",
        "                self.pheromone_delta[i][j] = self.colony.Q\n",
        "            elif self.colony.update_strategy == 2:  # ant-density system\n",
        "                # noinspection PyTypeChecker\n",
        "                self.pheromone_delta[i][j] = self.colony.Q / self.graph.matrix[i][j]\n",
        "            else:  # ant-cycle system\n",
        "                self.pheromone_delta[i][j] = self.colony.Q / self.total_cost"
      ],
      "execution_count": 3,
      "outputs": []
    },
    {
      "cell_type": "code",
      "metadata": {
        "id": "dWkrtNdz2wzh"
      },
      "source": [
        "import operator\n",
        "\n",
        "import matplotlib.pyplot as plt\n",
        "\n",
        "\n",
        "def plot(points, path: list):\n",
        "    x = []\n",
        "    y = []\n",
        "    for point in points:\n",
        "        x.append(point[0])\n",
        "        y.append(point[1])\n",
        "    # noinspection PyUnusedLocal\n",
        "    y = list(map(operator.sub, [max(y) for i in range(len(points))], y))\n",
        "    plt.plot(x, y, 'co')\n",
        "\n",
        "    for _ in range(1, len(path)):\n",
        "        i = path[_ - 1]\n",
        "        j = path[_]\n",
        "        # noinspection PyUnresolvedReferences\n",
        "        plt.arrow(x[i], y[i], x[j] - x[i], y[j] - y[i], color='r', length_includes_head=True)\n",
        "\n",
        "    # noinspection PyTypeChecker\n",
        "    plt.xlim(0, max(x) * 1.1)\n",
        "    # noinspection PyTypeChecker\n",
        "    plt.ylim(0, max(y) * 1.1)\n",
        "    plt.show()"
      ],
      "execution_count": 4,
      "outputs": []
    },
    {
      "cell_type": "code",
      "metadata": {
        "colab": {
          "base_uri": "https://localhost:8080/",
          "height": 340
        },
        "id": "f5ZdN0DZ2y5n",
        "outputId": "4fb9489c-3852-441c-9689-17b6a4dea6f5"
      },
      "source": [
        "import math\n",
        "\n",
        "def distance(city1: dict, city2: dict):\n",
        "    return math.sqrt((city1['x'] - city2['x']) ** 2 + (city1['y'] - city2['y']) ** 2)\n",
        "\n",
        "\n",
        "def main():\n",
        "    cities = []\n",
        "    points = []\n",
        "    with open('./chn31.txt') as f:\n",
        "        for line in f.readlines():\n",
        "            city = line.split(' ')\n",
        "            cities.append(dict(index=int(city[0]), x=int(city[1]), y=int(city[2])))\n",
        "            points.append((int(city[1]), int(city[2])))\n",
        "    cost_matrix = []\n",
        "    rank = len(cities)\n",
        "    for i in range(rank):\n",
        "        row = []\n",
        "        for j in range(rank):\n",
        "            row.append(distance(cities[i], cities[j]))\n",
        "        cost_matrix.append(row)\n",
        "    aco = ACO(10, 100, 1.0, 10.0, 0.5, 10, 2)\n",
        "    graph = Graph(cost_matrix, rank)\n",
        "    path, cost = aco.solve(graph)\n",
        "    print('cost: {}, path: {}'.format(cost, path))\n",
        "    time = cost/60\n",
        "    print('Waktu tempuh: {}'.format(time))\n",
        "    plot(points, path)\n",
        "    print(cities)\n",
        "\n",
        "if __name__ == '__main__':\n",
        "    main()"
      ],
      "execution_count": 5,
      "outputs": [
        {
          "output_type": "stream",
          "name": "stdout",
          "text": [
            "cost: 125.53698814408818, path: [4, 6, 8, 9, 7, 5, 3, 2, 1, 0]\n",
            "Waktu tempuh: 2.092283135734803\n"
          ]
        },
        {
          "output_type": "display_data",
          "data": {
            "image/png": "[encoded data removed]",
            "text/plain": [
              "<Figure size 432x288 with 1 Axes>"
            ]
          },
          "metadata": {
            "needs_background": "light"
          }
        },
        {
          "output_type": "stream",
          "name": "stdout",
          "text": [
            "[{'index': 1, 'x': 5, 'y': 5}, {'index': 2, 'x': 10, 'y': 25}, {'index': 3, 'x': 15, 'y': 15}, {'index': 4, 'x': 20, 'y': 20}, {'index': 5, 'x': 25, 'y': 10}, {'index': 6, 'x': 35, 'y': 25}, {'index': 7, 'x': 30, 'y': 5}, {'index': 8, 'x': 35, 'y': 20}, {'index': 9, 'x': 40, 'y': 10}, {'index': 0, 'x': 50, 'y': 15}]\n"
          ]
        }
      ]
    }
  ]
}